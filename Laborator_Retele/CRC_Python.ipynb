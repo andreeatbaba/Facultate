{
 "cells": [
  {
   "cell_type": "code",
   "execution_count": 6,
   "metadata": {},
   "outputs": [
    {
     "name": "stdout",
     "output_type": "stream",
     "text": [
      "The message is: \n",
      "110011111011101101110010010100110101010"
     ]
    }
   ],
   "source": [
    "import numpy as np\n",
    "\n",
    "#Bitii\n",
    "def sent_message(message:np.ndarray)->np.ndarray:\n",
    "    \n",
    "    print(\"The message is: \", end=\"\\n\")\n",
    "    #Pentru i de la 0 la lungimea mesajului, calculam pe linii nr de 1, si concatenam valoarea corespunzatoare\n",
    "    #1 pt nr impar de 1\n",
    "    #0 pt nr par de 1\n",
    "    for i in range(len(message)):\n",
    "        counterRows = 0\n",
    "        for j in range(len(message[i])):\n",
    "            print(message[i, j], end=\"\")\n",
    "            if message[i, j] == 1:\n",
    "                counterRows += 1\n",
    "        if counterRows % 2 != 0:\n",
    "            print(str(1), end=\"\")\n",
    "        else:\n",
    "            print(str(0), end=\"\")\n",
    "    #Pentru i de la 0 la lungimea mesajului, calculam pe coloane nr de 1, si concatenam valoarea corespunzatoare\n",
    "    #1 pt nr impar de 1\n",
    "    #0 pt nr par de 1\n",
    "    for i in range(0, 7):\n",
    "        counterCols = 0\n",
    "        for j in range(len(message)):\n",
    "            if message[j, i] == 1:\n",
    "                counterCols += 1\n",
    "        if counterCols % 2 != 0:\n",
    "            print(1, end=\"\")\n",
    "        else:\n",
    "            print(0, end=\"\")\n",
    "\n",
    "#Afisam\n",
    "message = np.array([[1, 1, 0, 0, 1, 1, 1], [1, 0, 1, 1, 1, 0, 1],[0,1,1,1,0,0,1],[0,1,0,1,0,0,1]])\n",
    "\n",
    "sent_message(message)"
   ]
  },
  {
   "cell_type": "code",
   "execution_count": 14,
   "metadata": {},
   "outputs": [
    {
     "name": "stdout",
     "output_type": "stream",
     "text": [
      "INTRODUCETI MESAJUL: 11111111111100011\n",
      "INTRODUCETI CHEIA: 100\n"
     ]
    },
    {
     "ename": "TypeError",
     "evalue": "can't multiply sequence by non-int of type 'str'",
     "output_type": "error",
     "traceback": [
      "\u001b[1;31m---------------------------------------------------------------------------\u001b[0m",
      "\u001b[1;31mTypeError\u001b[0m                                 Traceback (most recent call last)",
      "\u001b[1;32m<ipython-input-14-197a74388216>\u001b[0m in \u001b[0;36m<module>\u001b[1;34m\u001b[0m\n\u001b[0;32m     59\u001b[0m \u001b[0mmessage\u001b[0m \u001b[1;33m=\u001b[0m \u001b[0minput\u001b[0m\u001b[1;33m(\u001b[0m\u001b[1;34m'INTRODUCETI MESAJUL: '\u001b[0m\u001b[1;33m)\u001b[0m\u001b[1;33m\u001b[0m\u001b[1;33m\u001b[0m\u001b[0m\n\u001b[0;32m     60\u001b[0m \u001b[0mkey\u001b[0m \u001b[1;33m=\u001b[0m \u001b[0minput\u001b[0m\u001b[1;33m(\u001b[0m\u001b[1;34m'INTRODUCETI CHEIA: '\u001b[0m\u001b[1;33m)\u001b[0m\u001b[1;33m\u001b[0m\u001b[1;33m\u001b[0m\u001b[0m\n\u001b[1;32m---> 61\u001b[1;33m \u001b[0msent_message\u001b[0m \u001b[1;33m=\u001b[0m \u001b[0mencode_message\u001b[0m\u001b[1;33m(\u001b[0m\u001b[0mmessage\u001b[0m\u001b[1;33m,\u001b[0m \u001b[0mkey\u001b[0m\u001b[1;33m)\u001b[0m\u001b[1;33m\u001b[0m\u001b[1;33m\u001b[0m\u001b[0m\n\u001b[0m\u001b[0;32m     62\u001b[0m \u001b[0mprint\u001b[0m\u001b[1;33m(\u001b[0m\u001b[1;34m'MESAJUL TRIMIS: '\u001b[0m \u001b[1;33m+\u001b[0m \u001b[0msent_message\u001b[0m\u001b[1;33m)\u001b[0m\u001b[1;33m\u001b[0m\u001b[1;33m\u001b[0m\u001b[0m\n\u001b[0;32m     63\u001b[0m \u001b[1;33m\u001b[0m\u001b[0m\n",
      "\u001b[1;32m<ipython-input-14-197a74388216>\u001b[0m in \u001b[0;36mencode_message\u001b[1;34m(message, key)\u001b[0m\n\u001b[0;32m     37\u001b[0m     \u001b[0ml_key\u001b[0m \u001b[1;33m=\u001b[0m \u001b[0mlen\u001b[0m\u001b[1;33m(\u001b[0m\u001b[0mkey\u001b[0m\u001b[1;33m)\u001b[0m\u001b[1;33m\u001b[0m\u001b[1;33m\u001b[0m\u001b[0m\n\u001b[0;32m     38\u001b[0m     \u001b[0mappended_message\u001b[0m \u001b[1;33m=\u001b[0m \u001b[0mmessage\u001b[0m \u001b[1;33m+\u001b[0m \u001b[1;34m'0'\u001b[0m\u001b[1;33m*\u001b[0m\u001b[1;33m(\u001b[0m\u001b[0ml_key\u001b[0m\u001b[1;33m-\u001b[0m\u001b[1;36m1\u001b[0m\u001b[1;33m)\u001b[0m\u001b[1;33m\u001b[0m\u001b[1;33m\u001b[0m\u001b[0m\n\u001b[1;32m---> 39\u001b[1;33m     \u001b[0mremainder\u001b[0m \u001b[1;33m=\u001b[0m \u001b[0mmod2div\u001b[0m\u001b[1;33m(\u001b[0m\u001b[0mappended_message\u001b[0m\u001b[1;33m,\u001b[0m \u001b[0mkey\u001b[0m\u001b[1;33m)\u001b[0m\u001b[1;33m\u001b[0m\u001b[1;33m\u001b[0m\u001b[0m\n\u001b[0m\u001b[0;32m     40\u001b[0m \u001b[1;33m\u001b[0m\u001b[0m\n\u001b[0;32m     41\u001b[0m     \u001b[0mprint\u001b[0m\u001b[1;33m(\u001b[0m\u001b[1;34m'REST: '\u001b[0m \u001b[1;33m+\u001b[0m \u001b[0mremainder\u001b[0m\u001b[1;33m)\u001b[0m\u001b[1;33m\u001b[0m\u001b[1;33m\u001b[0m\u001b[0m\n",
      "\u001b[1;32m<ipython-input-14-197a74388216>\u001b[0m in \u001b[0;36mmod2div\u001b[1;34m(divident, divisor)\u001b[0m\n\u001b[0;32m     19\u001b[0m \u001b[1;33m\u001b[0m\u001b[0m\n\u001b[0;32m     20\u001b[0m         \u001b[1;32mif\u001b[0m \u001b[0mtmp\u001b[0m\u001b[1;33m[\u001b[0m\u001b[1;36m0\u001b[0m\u001b[1;33m]\u001b[0m \u001b[1;33m==\u001b[0m \u001b[1;34m'1'\u001b[0m\u001b[1;33m:\u001b[0m\u001b[1;33m\u001b[0m\u001b[1;33m\u001b[0m\u001b[0m\n\u001b[1;32m---> 21\u001b[1;33m             \u001b[0mtmp\u001b[0m \u001b[1;33m=\u001b[0m \u001b[0mxor\u001b[0m\u001b[1;33m(\u001b[0m\u001b[1;34m'0'\u001b[0m\u001b[1;33m*\u001b[0m\u001b[0mdivisor\u001b[0m\u001b[1;33m,\u001b[0m \u001b[0mtmp\u001b[0m\u001b[1;33m)\u001b[0m \u001b[1;33m+\u001b[0m \u001b[0mdivident\u001b[0m\u001b[1;33m[\u001b[0m\u001b[0mpick\u001b[0m\u001b[1;33m]\u001b[0m\u001b[1;33m\u001b[0m\u001b[1;33m\u001b[0m\u001b[0m\n\u001b[0m\u001b[0;32m     22\u001b[0m         \u001b[1;32melse\u001b[0m\u001b[1;33m:\u001b[0m\u001b[1;33m\u001b[0m\u001b[1;33m\u001b[0m\u001b[0m\n\u001b[0;32m     23\u001b[0m             \u001b[0mtmp\u001b[0m \u001b[1;33m=\u001b[0m \u001b[0mxor\u001b[0m\u001b[1;33m(\u001b[0m\u001b[1;34m'0'\u001b[0m\u001b[1;33m*\u001b[0m\u001b[0mpick\u001b[0m\u001b[1;33m,\u001b[0m \u001b[0mtmp\u001b[0m\u001b[1;33m)\u001b[0m \u001b[1;33m+\u001b[0m \u001b[0mdivident\u001b[0m\u001b[1;33m[\u001b[0m\u001b[0mpick\u001b[0m\u001b[1;33m]\u001b[0m\u001b[1;33m\u001b[0m\u001b[1;33m\u001b[0m\u001b[0m\n",
      "\u001b[1;31mTypeError\u001b[0m: can't multiply sequence by non-int of type 'str'"
     ]
    }
   ],
   "source": [
    "\n",
    "#CRC\n",
    "def xor(a, b): \n",
    "    result = []  \n",
    "    for i in range(1, len(b)): \n",
    "        #If bits are same, then XOR is 0, else 1.\n",
    "        if a[i] == b[i]: \n",
    "            result.append('0') \n",
    "        else: \n",
    "            result.append('1')    \n",
    "    return ''.join(result) \n",
    "\n",
    "#Impartirea intre mesaj si polinom\n",
    "def mod2div(divident, divisor): \n",
    "    pick = len(divisor) \n",
    "    tmp = divident[0 : pick] \n",
    "   \n",
    "    while pick < len(divident): \n",
    "   \n",
    "        if tmp[0] == '1':  \n",
    "            tmp = xor(divisor, tmp) + divident[pick] \n",
    "        else:   \n",
    "            tmp = xor('0'*pick, tmp) + divident[pick] \n",
    "   \n",
    "        pick += 1\n",
    "   \n",
    "    if tmp[0] == '1': \n",
    "        tmp = xor(divisor, tmp) \n",
    "    else: \n",
    "        tmp = xor('0'*pick, tmp) \n",
    "   \n",
    "    checkword = tmp \n",
    "    return checkword \n",
    "#Codificarea mesajului\n",
    "#Se adauga lungimea polinomului la coada mesajului, apoi retinem restul impartirii\n",
    "def encode_message(message, key): \n",
    "    l_key = len(key) \n",
    "    appended_message = message + '0'*(l_key-1) \n",
    "    remainder = mod2div(appended_message, key) \n",
    "    \n",
    "    print('REST: ' + remainder)\n",
    "    codeword = message + remainder  \n",
    "    return codeword\n",
    "#Verificarea mesajului, daca restul este 0, nu exista erori\n",
    "def verify_message2(message, key):\n",
    "    remainder = mod2div(message, key) \n",
    "    sent_message = message + remainder \n",
    "    #remainder = mod2div(sent_message,key)\n",
    "    if remainder == '0':\n",
    "        print('FARA EROARE! :) ')\n",
    "    else:\n",
    "        print('EROARE GASITA! :( ')\n",
    "        \n",
    "def verify_message(message, key):\n",
    "    return mod2div(message, key)\n",
    "\n",
    "\n",
    "\n",
    "message = input('INTRODUCETI MESAJUL: ')\n",
    "key = input('INTRODUCETI CHEIA: ')\n",
    "sent_message = encode_message(message, key)\n",
    "print('MESAJUL TRIMIS: ' + sent_message)\n",
    "\n",
    "#print(\"The remainder at the end of the transmision is: \")\n",
    "#verify_message(sent_message, key)\n",
    "\n",
    "print(\":)\")\n",
    "verify_message2(sent_message, key)"
   ]
  },
  {
   "cell_type": "code",
   "execution_count": null,
   "metadata": {},
   "outputs": [],
   "source": []
  }
 ],
 "metadata": {
  "kernelspec": {
   "display_name": "Python 3",
   "language": "python",
   "name": "python3"
  },
  "language_info": {
   "codemirror_mode": {
    "name": "ipython",
    "version": 3
   },
   "file_extension": ".py",
   "mimetype": "text/x-python",
   "name": "python",
   "nbconvert_exporter": "python",
   "pygments_lexer": "ipython3",
   "version": "3.7.1"
  }
 },
 "nbformat": 4,
 "nbformat_minor": 2
}
